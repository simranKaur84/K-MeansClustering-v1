{
 "cells": [
  {
   "cell_type": "code",
   "execution_count": 2,
   "metadata": {},
   "outputs": [],
   "source": [
    "import pandas as pd\n",
    "import numpy as np\n",
    "import seaborn as sns\n",
    "sns.set(color_codes = True)\n",
    "import matplotlib.pyplot as plt\n",
    "import nltk\n",
    "#nltk.download('punkt')\n",
    "from nltk.stem import PorterStemmer\n",
    "from nltk.corpus import stopwords\n",
    "from sklearn.decomposition import PCA\n",
    "from sklearn.cluster import KMeans\n",
    "from sklearn.metrics import silhouette_score\n",
    "from sklearn.metrics import silhouette_samples"
   ]
  },
  {
   "cell_type": "markdown",
   "metadata": {},
   "source": [
    "# Exploratory Data Analysis / Feature Engineering "
   ]
  },
  {
   "cell_type": "code",
   "execution_count": 3,
   "metadata": {},
   "outputs": [],
   "source": [
    "# read the csv file using pandas\n",
    "data = pd.read_csv(\"problem_statement_7.csv\")"
   ]
  },
  {
   "cell_type": "code",
   "execution_count": 4,
   "metadata": {},
   "outputs": [
    {
     "data": {
      "text/html": [
       "<div>\n",
       "<style scoped>\n",
       "    .dataframe tbody tr th:only-of-type {\n",
       "        vertical-align: middle;\n",
       "    }\n",
       "\n",
       "    .dataframe tbody tr th {\n",
       "        vertical-align: top;\n",
       "    }\n",
       "\n",
       "    .dataframe thead th {\n",
       "        text-align: right;\n",
       "    }\n",
       "</style>\n",
       "<table border=\"1\" class=\"dataframe\">\n",
       "  <thead>\n",
       "    <tr style=\"text-align: right;\">\n",
       "      <th></th>\n",
       "      <th>Review</th>\n",
       "      <th>Rating</th>\n",
       "    </tr>\n",
       "  </thead>\n",
       "  <tbody>\n",
       "    <tr>\n",
       "      <th>0</th>\n",
       "      <td>nice hotel expensive parking got good deal sta...</td>\n",
       "      <td>4</td>\n",
       "    </tr>\n",
       "    <tr>\n",
       "      <th>1</th>\n",
       "      <td>ok nothing special charge diamond member hilto...</td>\n",
       "      <td>2</td>\n",
       "    </tr>\n",
       "    <tr>\n",
       "      <th>2</th>\n",
       "      <td>nice rooms not 4* experience hotel monaco seat...</td>\n",
       "      <td>3</td>\n",
       "    </tr>\n",
       "    <tr>\n",
       "      <th>3</th>\n",
       "      <td>unique, great stay, wonderful time hotel monac...</td>\n",
       "      <td>5</td>\n",
       "    </tr>\n",
       "    <tr>\n",
       "      <th>4</th>\n",
       "      <td>great stay great stay, went seahawk game aweso...</td>\n",
       "      <td>5</td>\n",
       "    </tr>\n",
       "  </tbody>\n",
       "</table>\n",
       "</div>"
      ],
      "text/plain": [
       "                                              Review  Rating\n",
       "0  nice hotel expensive parking got good deal sta...       4\n",
       "1  ok nothing special charge diamond member hilto...       2\n",
       "2  nice rooms not 4* experience hotel monaco seat...       3\n",
       "3  unique, great stay, wonderful time hotel monac...       5\n",
       "4  great stay great stay, went seahawk game aweso...       5"
      ]
     },
     "execution_count": 4,
     "metadata": {},
     "output_type": "execute_result"
    }
   ],
   "source": [
    "# Let's see the first five rows of the data using head() function.\n",
    "data.head()"
   ]
  },
  {
   "cell_type": "code",
   "execution_count": 5,
   "metadata": {},
   "outputs": [
    {
     "data": {
      "text/html": [
       "<div>\n",
       "<style scoped>\n",
       "    .dataframe tbody tr th:only-of-type {\n",
       "        vertical-align: middle;\n",
       "    }\n",
       "\n",
       "    .dataframe tbody tr th {\n",
       "        vertical-align: top;\n",
       "    }\n",
       "\n",
       "    .dataframe thead th {\n",
       "        text-align: right;\n",
       "    }\n",
       "</style>\n",
       "<table border=\"1\" class=\"dataframe\">\n",
       "  <thead>\n",
       "    <tr style=\"text-align: right;\">\n",
       "      <th></th>\n",
       "      <th>Review</th>\n",
       "      <th>Rating</th>\n",
       "    </tr>\n",
       "  </thead>\n",
       "  <tbody>\n",
       "    <tr>\n",
       "      <th>20486</th>\n",
       "      <td>best kept secret 3rd time staying charm, not 5...</td>\n",
       "      <td>5</td>\n",
       "    </tr>\n",
       "    <tr>\n",
       "      <th>20487</th>\n",
       "      <td>great location price view hotel great quick pl...</td>\n",
       "      <td>4</td>\n",
       "    </tr>\n",
       "    <tr>\n",
       "      <th>20488</th>\n",
       "      <td>ok just looks nice modern outside, desk staff ...</td>\n",
       "      <td>2</td>\n",
       "    </tr>\n",
       "    <tr>\n",
       "      <th>20489</th>\n",
       "      <td>hotel theft ruined vacation hotel opened sept ...</td>\n",
       "      <td>1</td>\n",
       "    </tr>\n",
       "    <tr>\n",
       "      <th>20490</th>\n",
       "      <td>people talking, ca n't believe excellent ratin...</td>\n",
       "      <td>2</td>\n",
       "    </tr>\n",
       "  </tbody>\n",
       "</table>\n",
       "</div>"
      ],
      "text/plain": [
       "                                                  Review  Rating\n",
       "20486  best kept secret 3rd time staying charm, not 5...       5\n",
       "20487  great location price view hotel great quick pl...       4\n",
       "20488  ok just looks nice modern outside, desk staff ...       2\n",
       "20489  hotel theft ruined vacation hotel opened sept ...       1\n",
       "20490  people talking, ca n't believe excellent ratin...       2"
      ]
     },
     "execution_count": 5,
     "metadata": {},
     "output_type": "execute_result"
    }
   ],
   "source": [
    "# let's see the last five rows the data using tail() function.\n",
    "data.tail()"
   ]
  },
  {
   "cell_type": "code",
   "execution_count": 6,
   "metadata": {},
   "outputs": [
    {
     "data": {
      "text/plain": [
       "(20491, 2)"
      ]
     },
     "execution_count": 6,
     "metadata": {},
     "output_type": "execute_result"
    }
   ],
   "source": [
    "# let's see the data dimensions\n",
    "data.shape "
   ]
  },
  {
   "cell_type": "code",
   "execution_count": 7,
   "metadata": {},
   "outputs": [
    {
     "data": {
      "text/html": [
       "<div>\n",
       "<style scoped>\n",
       "    .dataframe tbody tr th:only-of-type {\n",
       "        vertical-align: middle;\n",
       "    }\n",
       "\n",
       "    .dataframe tbody tr th {\n",
       "        vertical-align: top;\n",
       "    }\n",
       "\n",
       "    .dataframe thead th {\n",
       "        text-align: right;\n",
       "    }\n",
       "</style>\n",
       "<table border=\"1\" class=\"dataframe\">\n",
       "  <thead>\n",
       "    <tr style=\"text-align: right;\">\n",
       "      <th></th>\n",
       "      <th>Rating</th>\n",
       "    </tr>\n",
       "  </thead>\n",
       "  <tbody>\n",
       "    <tr>\n",
       "      <th>count</th>\n",
       "      <td>20491.000000</td>\n",
       "    </tr>\n",
       "    <tr>\n",
       "      <th>mean</th>\n",
       "      <td>3.952223</td>\n",
       "    </tr>\n",
       "    <tr>\n",
       "      <th>std</th>\n",
       "      <td>1.233030</td>\n",
       "    </tr>\n",
       "    <tr>\n",
       "      <th>min</th>\n",
       "      <td>1.000000</td>\n",
       "    </tr>\n",
       "    <tr>\n",
       "      <th>25%</th>\n",
       "      <td>3.000000</td>\n",
       "    </tr>\n",
       "    <tr>\n",
       "      <th>50%</th>\n",
       "      <td>4.000000</td>\n",
       "    </tr>\n",
       "    <tr>\n",
       "      <th>75%</th>\n",
       "      <td>5.000000</td>\n",
       "    </tr>\n",
       "    <tr>\n",
       "      <th>max</th>\n",
       "      <td>5.000000</td>\n",
       "    </tr>\n",
       "  </tbody>\n",
       "</table>\n",
       "</div>"
      ],
      "text/plain": [
       "             Rating\n",
       "count  20491.000000\n",
       "mean       3.952223\n",
       "std        1.233030\n",
       "min        1.000000\n",
       "25%        3.000000\n",
       "50%        4.000000\n",
       "75%        5.000000\n",
       "max        5.000000"
      ]
     },
     "execution_count": 7,
     "metadata": {},
     "output_type": "execute_result"
    }
   ],
   "source": [
    "# Let's try to describe the data statistics by using the Describe function.\n",
    "data.describe()"
   ]
  },
  {
   "cell_type": "code",
   "execution_count": 8,
   "metadata": {},
   "outputs": [
    {
     "name": "stdout",
     "output_type": "stream",
     "text": [
      "<class 'pandas.core.frame.DataFrame'>\n",
      "RangeIndex: 20491 entries, 0 to 20490\n",
      "Data columns (total 2 columns):\n",
      " #   Column  Non-Null Count  Dtype \n",
      "---  ------  --------------  ----- \n",
      " 0   Review  20491 non-null  object\n",
      " 1   Rating  20491 non-null  int64 \n",
      "dtypes: int64(1), object(1)\n",
      "memory usage: 320.3+ KB\n"
     ]
    }
   ],
   "source": [
    "# let's see the data type of every column present in our data.\n",
    "data.info()"
   ]
  },
  {
   "cell_type": "code",
   "execution_count": 9,
   "metadata": {},
   "outputs": [
    {
     "data": {
      "text/plain": [
       "Review    0\n",
       "Rating    0\n",
       "dtype: int64"
      ]
     },
     "execution_count": 9,
     "metadata": {},
     "output_type": "execute_result"
    }
   ],
   "source": [
    "# Now, we will check if there are any null values present in the dataset.\n",
    "# if any of the missing values will be present in dataset, we will remove those values.\n",
    "data.isnull().sum()"
   ]
  },
  {
   "cell_type": "code",
   "execution_count": 10,
   "metadata": {},
   "outputs": [],
   "source": [
    "# After the null results above, we can conclude that we don't have any missing values in our data.\n",
    "# So, we don't have to remove any values containing the missing values.\n",
    "# Now, let's visualise our reviews present in the datset using the bar chart.\n",
    "# value_counts() function provides us all the reviews present in our dataset with their frequencies.\n",
    "# Those frequencies can be then ordered ascending and selecting only top 5 out of those.\n",
    "rating_counts = data['Rating'].value_counts().sort_values(ascending=False).iloc[0:5]"
   ]
  },
  {
   "cell_type": "code",
   "execution_count": 11,
   "metadata": {},
   "outputs": [
    {
     "name": "stderr",
     "output_type": "stream",
     "text": [
      "C:\\Users\\kaurs\\Anaconda3\\lib\\site-packages\\seaborn\\_decorators.py:36: FutureWarning: Pass the following variables as keyword args: x, y. From version 0.12, the only valid positional argument will be `data`, and passing other arguments without an explicit keyword will result in an error or misinterpretation.\n",
      "  warnings.warn(\n"
     ]
    },
    {
     "data": {
      "image/png": "[encoded data removed]",
      "text/plain": [
       "<Figure size 1008x432 with 1 Axes>"
      ]
     },
     "metadata": {},
     "output_type": "display_data"
    }
   ],
   "source": [
    "plt.figure(figsize=(14,6))\n",
    "sns.barplot(rating_counts.index, rating_counts.index, palette=sns.cubehelix_palette(start=2.8, rot=.1,n_colors=10))\n",
    "plt.ylabel(\"Count\")\n",
    "plt.title(\"Top 10 Rating\");\n",
    "plt.xticks(rotation=90);"
   ]
  },
  {
   "cell_type": "markdown",
   "metadata": {},
   "source": [
    "## Convert all text to Lower Case - Preprocessing"
   ]
  },
  {
   "cell_type": "code",
   "execution_count": 12,
   "metadata": {},
   "outputs": [],
   "source": [
    "# Converting all the text to lower case.\n",
    "data['Review'] = data['Review'].str.lower()"
   ]
  },
  {
   "cell_type": "markdown",
   "metadata": {},
   "source": [
    "## Tokenization - Preprocessing "
   ]
  },
  {
   "cell_type": "code",
   "execution_count": 13,
   "metadata": {},
   "outputs": [
    {
     "name": "stdout",
     "output_type": "stream",
     "text": [
      "['nice', 'hotel', 'expensive', 'parking', 'got', 'good', 'deal', 'stay', 'hotel', 'anniversary', ',', 'arrived', 'late', 'evening', 'took', 'advice', 'previous', 'reviews', 'did', 'valet', 'parking', ',', 'check', 'quick', 'easy', ',', 'little', 'disappointed', 'non-existent', 'view', 'room', 'room', 'clean', 'nice', 'size', ',', 'bed', 'comfortable', 'woke', 'stiff', 'neck', 'high', 'pillows', ',', 'not', 'soundproof', 'like', 'heard', 'music', 'room', 'night', 'morning', 'loud', 'bangs', 'doors', 'opening', 'closing', 'hear', 'people', 'talking', 'hallway', ',', 'maybe', 'just', 'noisy', 'neighbors', ',', 'aveda', 'bath', 'products', 'nice', ',', 'did', 'not', 'goldfish', 'stay', 'nice', 'touch', 'taken', 'advantage', 'staying', 'longer', ',', 'location', 'great', 'walking', 'distance', 'shopping', ',', 'overall', 'nice', 'experience', 'having', 'pay', '40', 'parking', 'night', ',']\n"
     ]
    }
   ],
   "source": [
    "# let's iterate through every row in the dataset.\n",
    "# We have to remove the stopwords from the data as these words need not be included \n",
    "# and are useless words which only increase the cost and the valuable processing time.\n",
    "# Let's first start with the tokenization process..\n",
    "# the tokenization process is to split the text into the words or sentences.\n",
    "# we will use NLTK library to achieve this.\n",
    "# let's just apply this to the first row only and see the output.\n",
    "print(nltk.word_tokenize(data['Review'][0]))"
   ]
  },
  {
   "cell_type": "code",
   "execution_count": 14,
   "metadata": {},
   "outputs": [],
   "source": [
    "# Now, we will apply word_tokenize() to all the records.\n",
    "# let's create a function which will take the row as a parameter\n",
    "# and will tokenize all the words present in it.\n",
    "# Here we will also strip out non alphanumeric words/characters (such as numbers and punctuation) \n",
    "# using .isalpha (you could use .isalnum if you wanted to keep in numbers as well)\n",
    "def identify_tokens(row):\n",
    "    review = row['Review']\n",
    "    tokens = nltk.word_tokenize(review)\n",
    "    token_words = [word for word in tokens if word.isalpha()]\n",
    "    return token_words"
   ]
  },
  {
   "cell_type": "code",
   "execution_count": 15,
   "metadata": {},
   "outputs": [],
   "source": [
    "# Now, we have created a function that will take each row as a parameter\n",
    "# and will remove all the punctuations(unnecessary) and numbers from the dataset.\n",
    "# let's iterate over the dataset and pass each row of the data from the function defined above.\n",
    "data['Review'] = data.apply(identify_tokens, axis = 1)"
   ]
  },
  {
   "cell_type": "code",
   "execution_count": 16,
   "metadata": {},
   "outputs": [
    {
     "name": "stdout",
     "output_type": "stream",
     "text": [
      "['nice', 'hotel', 'expensive', 'parking', 'got', 'good', 'deal', 'stay', 'hotel', 'anniversary', 'arrived', 'late', 'evening', 'took', 'advice', 'previous', 'reviews', 'did', 'valet', 'parking', 'check', 'quick', 'easy', 'little', 'disappointed', 'view', 'room', 'room', 'clean', 'nice', 'size', 'bed', 'comfortable', 'woke', 'stiff', 'neck', 'high', 'pillows', 'not', 'soundproof', 'like', 'heard', 'music', 'room', 'night', 'morning', 'loud', 'bangs', 'doors', 'opening', 'closing', 'hear', 'people', 'talking', 'hallway', 'maybe', 'just', 'noisy', 'neighbors', 'aveda', 'bath', 'products', 'nice', 'did', 'not', 'goldfish', 'stay', 'nice', 'touch', 'taken', 'advantage', 'staying', 'longer', 'location', 'great', 'walking', 'distance', 'shopping', 'overall', 'nice', 'experience', 'having', 'pay', 'parking', 'night']\n"
     ]
    }
   ],
   "source": [
    "# Now, that we have applied the created function to remove the punctuations and the numbers from the dataset\n",
    "# we will again have a look on the first row of the dataset as we did earlier to see the difference.\n",
    "print(data['Review'][0])"
   ]
  },
  {
   "cell_type": "code",
   "execution_count": 17,
   "metadata": {},
   "outputs": [],
   "source": [
    "# As we can see that we have removed the punctuation marks and the numbers from dataset.\n",
    "# similarly, All other rows would have got the extra marks removed.\n",
    "# Now, Let's perform stemming."
   ]
  },
  {
   "cell_type": "markdown",
   "metadata": {},
   "source": [
    "## Stemming "
   ]
  },
  {
   "cell_type": "code",
   "execution_count": 18,
   "metadata": {},
   "outputs": [],
   "source": [
    "# Stemming reduces the related words to the common stem.It is an optional process step.\n",
    "# Let's perform stemming.\n",
    "# For example, if we have three words such as 'frightening', 'frighten', 'frightened'\n",
    "# it reduces all the three words to 'frighten' , 'frighten', 'frighten'.\n",
    "stemming = PorterStemmer()"
   ]
  },
  {
   "cell_type": "code",
   "execution_count": 19,
   "metadata": {},
   "outputs": [],
   "source": [
    "# Let's create a function to apply stemming to all the rows of the dataset.\n",
    "def stem_list(row):\n",
    "    review_list = row['Review']\n",
    "    stemmed_list = [stemming.stem(word) for word in review_list]\n",
    "    return stemmed_list"
   ]
  },
  {
   "cell_type": "code",
   "execution_count": 20,
   "metadata": {},
   "outputs": [],
   "source": [
    "# Now that we have created the function for stemming..\n",
    "# we will pass each row of the dataset from this function.\n",
    "data['Review'] = data.apply(stem_list, axis =1)"
   ]
  },
  {
   "cell_type": "code",
   "execution_count": 21,
   "metadata": {},
   "outputs": [
    {
     "name": "stdout",
     "output_type": "stream",
     "text": [
      "['nice', 'hotel', 'expens', 'park', 'got', 'good', 'deal', 'stay', 'hotel', 'anniversari', 'arriv', 'late', 'even', 'took', 'advic', 'previou', 'review', 'did', 'valet', 'park', 'check', 'quick', 'easi', 'littl', 'disappoint', 'view', 'room', 'room', 'clean', 'nice', 'size', 'bed', 'comfort', 'woke', 'stiff', 'neck', 'high', 'pillow', 'not', 'soundproof', 'like', 'heard', 'music', 'room', 'night', 'morn', 'loud', 'bang', 'door', 'open', 'close', 'hear', 'peopl', 'talk', 'hallway', 'mayb', 'just', 'noisi', 'neighbor', 'aveda', 'bath', 'product', 'nice', 'did', 'not', 'goldfish', 'stay', 'nice', 'touch', 'taken', 'advantag', 'stay', 'longer', 'locat', 'great', 'walk', 'distanc', 'shop', 'overal', 'nice', 'experi', 'have', 'pay', 'park', 'night']\n"
     ]
    }
   ],
   "source": [
    "# let's observe the first row of the dataset after stemming\n",
    "print(data['Review'][0])"
   ]
  },
  {
   "cell_type": "code",
   "execution_count": 22,
   "metadata": {},
   "outputs": [],
   "source": [
    "# Let's remove the stop words from the dataset now."
   ]
  },
  {
   "cell_type": "markdown",
   "metadata": {},
   "source": [
    "## Remove Stopwords - Preprocessing "
   ]
  },
  {
   "cell_type": "code",
   "execution_count": 23,
   "metadata": {},
   "outputs": [],
   "source": [
    "# let's define the function to remove the stopwords from the dataset.\n",
    "# the stopwords are some useless words that should be removed because \n",
    "# processing of the useless words increase the cost and the valuable processing time.\n",
    "stops = set(stopwords.words(\"english\"))                  \n",
    "def remove_stopwords(row):\n",
    "    stemmed_list = row['Review']\n",
    "    meaningful_words = [word for word in stemmed_list if not word in stops]\n",
    "    return meaningful_words"
   ]
  },
  {
   "cell_type": "code",
   "execution_count": 24,
   "metadata": {},
   "outputs": [],
   "source": [
    "# Here, we will pass all the rows of our dataset from the function created above.\n",
    "# It would remove all the stop words from the dataset.\n",
    "# Hence, saving our cost and valuable processing time.\n",
    "data['Review'] = data.apply(remove_stopwords, axis=1)"
   ]
  },
  {
   "cell_type": "code",
   "execution_count": 25,
   "metadata": {},
   "outputs": [
    {
     "name": "stdout",
     "output_type": "stream",
     "text": [
      "['nice', 'hotel', 'expens', 'park', 'got', 'good', 'deal', 'stay', 'hotel', 'anniversari', 'arriv', 'late', 'even', 'took', 'advic', 'previou', 'review', 'valet', 'park', 'check', 'quick', 'easi', 'littl', 'disappoint', 'view', 'room', 'room', 'clean', 'nice', 'size', 'bed', 'comfort', 'woke', 'stiff', 'neck', 'high', 'pillow', 'soundproof', 'like', 'heard', 'music', 'room', 'night', 'morn', 'loud', 'bang', 'door', 'open', 'close', 'hear', 'peopl', 'talk', 'hallway', 'mayb', 'noisi', 'neighbor', 'aveda', 'bath', 'product', 'nice', 'goldfish', 'stay', 'nice', 'touch', 'taken', 'advantag', 'stay', 'longer', 'locat', 'great', 'walk', 'distanc', 'shop', 'overal', 'nice', 'experi', 'pay', 'park', 'night']\n"
     ]
    }
   ],
   "source": [
    "# Now that we have removed the stopwords from our dataset.\n",
    "# we will have a look at the first row to observe the results.\n",
    "print(data['Review'][0])"
   ]
  },
  {
   "cell_type": "code",
   "execution_count": 26,
   "metadata": {},
   "outputs": [],
   "source": [
    "# The results above show that the stopwords have been removed from the dataset."
   ]
  },
  {
   "cell_type": "markdown",
   "metadata": {},
   "source": [
    "## Rejoin Words - Preprocessing"
   ]
  },
  {
   "cell_type": "code",
   "execution_count": 27,
   "metadata": {},
   "outputs": [],
   "source": [
    "# let's now define a function that will rejoin all the processed words.\n",
    "def rejoin_words(row):\n",
    "    review_list = row['Review']\n",
    "    joined_list = (\" \".join(review_list))\n",
    "    return joined_list"
   ]
  },
  {
   "cell_type": "code",
   "execution_count": 28,
   "metadata": {},
   "outputs": [],
   "source": [
    "# Now that we have created the function that will return us the \n",
    "# words after joining. We will be getting the preprocessed words.\n",
    "data['Review'] = data.apply(rejoin_words, axis=1)"
   ]
  },
  {
   "cell_type": "code",
   "execution_count": 29,
   "metadata": {},
   "outputs": [
    {
     "name": "stdout",
     "output_type": "stream",
     "text": [
      "nice hotel expens park got good deal stay hotel anniversari arriv late even took advic previou review valet park check quick easi littl disappoint view room room clean nice size bed comfort woke stiff neck high pillow soundproof like heard music room night morn loud bang door open close hear peopl talk hallway mayb noisi neighbor aveda bath product nice goldfish stay nice touch taken advantag stay longer locat great walk distanc shop overal nice experi pay park night\n"
     ]
    }
   ],
   "source": [
    "# We have rejoined the words, let's observe the first row.\n",
    "print(data['Review'][0])"
   ]
  },
  {
   "cell_type": "code",
   "execution_count": 30,
   "metadata": {},
   "outputs": [],
   "source": [
    "# Now, we can easily read and understand the above text.\n",
    "# But it is difficult for the computer to understand the sentence.\n",
    "# As computers, can only understand the numerical value.\n",
    "# for this reason, we vectorize all text so that computer can understand better.\n",
    "# TF-IDF = Term Frequency (TF) * Inverse Document Frequency (IDF)"
   ]
  },
  {
   "cell_type": "markdown",
   "metadata": {},
   "source": [
    "## Calculating TF-IDF - Preprocessing "
   ]
  },
  {
   "cell_type": "code",
   "execution_count": 31,
   "metadata": {},
   "outputs": [],
   "source": [
    "# Now, we have to reduce the TF-IDF vector to the two dimensions using PCA.\n",
    "# Tokenize and generate count vectors\n",
    "word_vec = data['Review'].apply(str.split).apply(pd.value_counts).fillna(0)\n",
    "\n",
    "# Compute term frequencies\n",
    "tf = word_vec.divide(np.sum(word_vec, axis=1), axis=0)\n",
    "\n",
    "# Compute inverse document frequencies\n",
    "idf = np.log10(len(tf) / word_vec[word_vec > 0].count()) \n",
    "\n",
    "# Compute TF-IDF vectors\n",
    "tfidf = np.multiply(tf, idf.to_frame().T)"
   ]
  },
  {
   "cell_type": "code",
   "execution_count": 32,
   "metadata": {},
   "outputs": [
    {
     "name": "stdout",
     "output_type": "stream",
     "text": [
      "           nice      park      stay      room     hotel     night      took  \\\n",
      "0      0.026910  0.038243  0.005377  0.002879  0.002279  0.009307  0.012035   \n",
      "1      0.001898  0.000000  0.000632  0.002031  0.002813  0.003282  0.004245   \n",
      "2      0.006970  0.000000  0.003095  0.003728  0.001476  0.010044  0.000000   \n",
      "3      0.010370  0.000000  0.003454  0.000924  0.004391  0.000000  0.000000   \n",
      "4      0.000000  0.005889  0.001656  0.000887  0.001579  0.000000  0.005560   \n",
      "...         ...       ...       ...       ...       ...       ...       ...   \n",
      "20486  0.004295  0.020345  0.004291  0.000766  0.000000  0.000000  0.000000   \n",
      "20487  0.012148  0.028774  0.000000  0.000000  0.005144  0.000000  0.000000   \n",
      "20488  0.007331  0.017363  0.000000  0.003921  0.003104  0.000000  0.000000   \n",
      "20489  0.000000  0.001433  0.001208  0.001941  0.004610  0.002615  0.000000   \n",
      "20490  0.000000  0.000000  0.003412  0.000913  0.003254  0.008858  0.000000   \n",
      "\n",
      "           easi      talk     music  ...    unbolt  undercov     mosso  \\\n",
      "0      0.013103  0.018690  0.018370  ...  0.000000  0.000000  0.000000   \n",
      "1      0.000000  0.000000  0.000000  ...  0.000000  0.000000  0.000000   \n",
      "2      0.005656  0.000000  0.000000  ...  0.000000  0.000000  0.000000   \n",
      "3      0.000000  0.000000  0.000000  ...  0.000000  0.000000  0.000000   \n",
      "4      0.000000  0.008635  0.000000  ...  0.000000  0.000000  0.000000   \n",
      "...         ...       ...       ...  ...       ...       ...       ...   \n",
      "20486  0.000000  0.000000  0.014659  ...  0.000000  0.000000  0.000000   \n",
      "20487  0.000000  0.000000  0.000000  ...  0.000000  0.000000  0.000000   \n",
      "20488  0.000000  0.000000  0.000000  ...  0.000000  0.000000  0.000000   \n",
      "20489  0.000000  0.002100  0.000000  ...  0.006133  0.006133  0.006133   \n",
      "20490  0.000000  0.017789  0.000000  ...  0.000000  0.000000  0.000000   \n",
      "\n",
      "       moneybelt      evas  indemnifi      elus  barcelonin  blackmail  \\\n",
      "0       0.000000  0.000000   0.000000  0.000000    0.000000   0.000000   \n",
      "1       0.000000  0.000000   0.000000  0.000000    0.000000   0.000000   \n",
      "2       0.000000  0.000000   0.000000  0.000000    0.000000   0.000000   \n",
      "3       0.000000  0.000000   0.000000  0.000000    0.000000   0.000000   \n",
      "4       0.000000  0.000000   0.000000  0.000000    0.000000   0.000000   \n",
      "...          ...       ...        ...       ...         ...        ...   \n",
      "20486   0.000000  0.000000   0.000000  0.000000    0.000000   0.000000   \n",
      "20487   0.000000  0.000000   0.000000  0.000000    0.000000   0.000000   \n",
      "20488   0.000000  0.000000   0.000000  0.000000    0.000000   0.000000   \n",
      "20489   0.006133  0.006133   0.006133  0.006133    0.006133   0.006133   \n",
      "20490   0.000000  0.000000   0.000000  0.000000    0.000000   0.000000   \n",
      "\n",
      "       aftermath  \n",
      "0       0.000000  \n",
      "1       0.000000  \n",
      "2       0.000000  \n",
      "3       0.000000  \n",
      "4       0.000000  \n",
      "...          ...  \n",
      "20486   0.000000  \n",
      "20487   0.000000  \n",
      "20488   0.000000  \n",
      "20489   0.006133  \n",
      "20490   0.000000  \n",
      "\n",
      "[20491 rows x 34386 columns]\n"
     ]
    }
   ],
   "source": [
    "print(tfidf)"
   ]
  },
  {
   "cell_type": "code",
   "execution_count": 33,
   "metadata": {},
   "outputs": [],
   "source": [
    "# reduce the tf-idf vectors to two dimensions using PCA. \n",
    "reduced_data = PCA(n_components=2).fit_transform(tfidf)"
   ]
  },
  {
   "cell_type": "code",
   "execution_count": 34,
   "metadata": {},
   "outputs": [
    {
     "name": "stdout",
     "output_type": "stream",
     "text": [
      "[[-0.00605778 -0.01928805]\n",
      " [ 0.00419616 -0.01792027]\n",
      " [ 0.00311767 -0.01513997]\n",
      " ...\n",
      " [-0.00437054 -0.01722737]\n",
      " [ 0.00374453 -0.01053323]\n",
      " [-0.00040104 -0.00687303]]\n"
     ]
    }
   ],
   "source": [
    "# let's see the results after applying the PCA.\n",
    "print(reduced_data)"
   ]
  },
  {
   "cell_type": "markdown",
   "metadata": {},
   "source": [
    "# K-Means Clustering "
   ]
  },
  {
   "cell_type": "code",
   "execution_count": 35,
   "metadata": {},
   "outputs": [
    {
     "data": {
      "text/html": [
       "<div>\n",
       "<style scoped>\n",
       "    .dataframe tbody tr th:only-of-type {\n",
       "        vertical-align: middle;\n",
       "    }\n",
       "\n",
       "    .dataframe tbody tr th {\n",
       "        vertical-align: top;\n",
       "    }\n",
       "\n",
       "    .dataframe thead th {\n",
       "        text-align: right;\n",
       "    }\n",
       "</style>\n",
       "<table border=\"1\" class=\"dataframe\">\n",
       "  <thead>\n",
       "    <tr style=\"text-align: right;\">\n",
       "      <th></th>\n",
       "      <th>Review</th>\n",
       "      <th>Rating</th>\n",
       "    </tr>\n",
       "  </thead>\n",
       "  <tbody>\n",
       "    <tr>\n",
       "      <th>0</th>\n",
       "      <td>nice hotel expens park got good deal stay hote...</td>\n",
       "      <td>4</td>\n",
       "    </tr>\n",
       "    <tr>\n",
       "      <th>1</th>\n",
       "      <td>ok noth special charg diamond member hilton de...</td>\n",
       "      <td>2</td>\n",
       "    </tr>\n",
       "    <tr>\n",
       "      <th>2</th>\n",
       "      <td>nice room experi hotel monaco seattl good hote...</td>\n",
       "      <td>3</td>\n",
       "    </tr>\n",
       "    <tr>\n",
       "      <th>3</th>\n",
       "      <td>uniqu great stay wonder time hotel monaco loca...</td>\n",
       "      <td>5</td>\n",
       "    </tr>\n",
       "    <tr>\n",
       "      <th>4</th>\n",
       "      <td>great stay great stay went seahawk game awesom...</td>\n",
       "      <td>5</td>\n",
       "    </tr>\n",
       "  </tbody>\n",
       "</table>\n",
       "</div>"
      ],
      "text/plain": [
       "                                              Review  Rating\n",
       "0  nice hotel expens park got good deal stay hote...       4\n",
       "1  ok noth special charg diamond member hilton de...       2\n",
       "2  nice room experi hotel monaco seattl good hote...       3\n",
       "3  uniqu great stay wonder time hotel monaco loca...       5\n",
       "4  great stay great stay went seahawk game awesom...       5"
      ]
     },
     "execution_count": 35,
     "metadata": {},
     "output_type": "execute_result"
    }
   ],
   "source": [
    "# lets see the data and the reduced data.\n",
    "data.head()"
   ]
  },
  {
   "cell_type": "code",
   "execution_count": 36,
   "metadata": {},
   "outputs": [
    {
     "data": {
      "text/plain": [
       "array([[-0.00605778, -0.01928805],\n",
       "       [ 0.00419616, -0.01792027],\n",
       "       [ 0.00311767, -0.01513997],\n",
       "       ...,\n",
       "       [-0.00437054, -0.01722737],\n",
       "       [ 0.00374453, -0.01053323],\n",
       "       [-0.00040104, -0.00687303]])"
      ]
     },
     "execution_count": 36,
     "metadata": {},
     "output_type": "execute_result"
    }
   ],
   "source": [
    "reduced_data"
   ]
  },
  {
   "cell_type": "code",
   "execution_count": 37,
   "metadata": {},
   "outputs": [
    {
     "data": {
      "text/plain": [
       "KMeans(n_clusters=2, random_state=42)"
      ]
     },
     "execution_count": 37,
     "metadata": {},
     "output_type": "execute_result"
    }
   ],
   "source": [
    "kmeans_pca = KMeans(n_clusters = 2, init = 'k-means++', random_state = 42)\n",
    "kmeans_pca.fit(reduced_data)"
   ]
  },
  {
   "cell_type": "code",
   "execution_count": 38,
   "metadata": {},
   "outputs": [
    {
     "data": {
      "text/plain": [
       "(20491, 2)"
      ]
     },
     "execution_count": 38,
     "metadata": {},
     "output_type": "execute_result"
    }
   ],
   "source": [
    "reduced_data.shape"
   ]
  },
  {
   "cell_type": "code",
   "execution_count": 39,
   "metadata": {},
   "outputs": [],
   "source": [
    "#predict the labels of clusters.\n",
    "label = kmeans_pca.fit_predict(reduced_data)"
   ]
  },
  {
   "cell_type": "code",
   "execution_count": 40,
   "metadata": {},
   "outputs": [
    {
     "data": {
      "image/png": "[encoded data removed]",
      "text/plain": [
       "<Figure size 432x288 with 1 Axes>"
      ]
     },
     "metadata": {},
     "output_type": "display_data"
    }
   ],
   "source": [
    "#filter rows of original data\n",
    "filtered_label0 = reduced_data[label == 0]\n",
    " \n",
    "#plotting the results\n",
    "plt.scatter(filtered_label0[:,0] , filtered_label0[:,1])\n",
    "plt.show()"
   ]
  },
  {
   "cell_type": "code",
   "execution_count": 41,
   "metadata": {},
   "outputs": [
    {
     "name": "stdout",
     "output_type": "stream",
     "text": [
      "[1 1 1 ... 1 1 1]\n"
     ]
    }
   ],
   "source": [
    "print(label)"
   ]
  },
  {
   "cell_type": "code",
   "execution_count": 42,
   "metadata": {},
   "outputs": [],
   "source": [
    "u_labels = np.unique(label)"
   ]
  },
  {
   "cell_type": "code",
   "execution_count": 43,
   "metadata": {},
   "outputs": [
    {
     "name": "stdout",
     "output_type": "stream",
     "text": [
      "[0 1]\n"
     ]
    }
   ],
   "source": [
    "print(u_labels)"
   ]
  },
  {
   "cell_type": "code",
   "execution_count": 44,
   "metadata": {},
   "outputs": [
    {
     "data": {
      "image/png": "[encoded data removed]",
      "text/plain": [
       "<Figure size 432x288 with 1 Axes>"
      ]
     },
     "metadata": {},
     "output_type": "display_data"
    }
   ],
   "source": [
    "#filter rows of original data\n",
    "filtered_label0 = reduced_data[label == 1]\n",
    "\n",
    "#plotting the results\n",
    "plt.scatter(filtered_label0[:,0] , filtered_label0[:,1])\n",
    "plt.show()"
   ]
  },
  {
   "cell_type": "markdown",
   "metadata": {},
   "source": [
    "## Cluster - 3 "
   ]
  },
  {
   "cell_type": "code",
   "execution_count": 45,
   "metadata": {},
   "outputs": [
    {
     "data": {
      "image/png": "[encoded data removed]",
      "text/plain": [
       "<Figure size 432x288 with 1 Axes>"
      ]
     },
     "metadata": {},
     "output_type": "display_data"
    },
    {
     "name": "stdout",
     "output_type": "stream",
     "text": [
      "Silhouette Score: 0.401\n",
      "[0.34699177912863793, 0.42007944276486814, 0.45532891601564857]\n"
     ]
    }
   ],
   "source": [
    "kmeans_pca = KMeans(n_clusters = 3, init = 'k-means++', random_state = 42)\n",
    "kmeans_pca.fit(reduced_data)\n",
    "#predict the labels of clusters.\n",
    "label = kmeans_pca.fit_predict(reduced_data)\n",
    "u_labels = np.unique(label)\n",
    "silhouette_scores=[]    \n",
    "\n",
    "# Getting the centroids\n",
    "centroids = kmeans_pca.cluster_centers_\n",
    "for i in u_labels:\n",
    "    plt.scatter(reduced_data[label == i , 0] , reduced_data[label == i , 1] , label = i)\n",
    "plt.scatter(centroids[:,0] , centroids[:,1] , s = 80, color = 'k')\n",
    "plt.legend()\n",
    "plt.show()\n",
    "\n",
    "num_clusters = 3\n",
    "sample_silhouette_values = silhouette_samples(reduced_data, label)\n",
    "score_for_3 = silhouette_score(reduced_data, kmeans_pca.labels_, metric='euclidean')\n",
    "# Print the score\n",
    "print('Silhouette Score: %.3f' % score_for_3)\n",
    "silhouette_scores.append(score_for_3)\n",
    "\n",
    "means_lst = []\n",
    "for label in range(num_clusters):\n",
    "    means_lst.append(sample_silhouette_values[kmeans_pca.labels_ == label].mean())\n",
    "print(means_lst)                                                                             \n"
   ]
  },
  {
   "cell_type": "markdown",
   "metadata": {},
   "source": [
    "##  Cluster - 4"
   ]
  },
  {
   "cell_type": "code",
   "execution_count": 46,
   "metadata": {},
   "outputs": [
    {
     "data": {
      "image/png": "[encoded data removed]",
      "text/plain": [
       "<Figure size 432x288 with 1 Axes>"
      ]
     },
     "metadata": {},
     "output_type": "display_data"
    },
    {
     "name": "stdout",
     "output_type": "stream",
     "text": [
      "Silhouette Score: 0.359\n",
      "[0.36076689410555396, 0.27851668247332495, 0.34725605928846376, 0.4435346982369354]\n"
     ]
    }
   ],
   "source": [
    "kmeans_pca = KMeans(n_clusters = 4, init = 'k-means++', random_state = 42)\n",
    "kmeans_pca.fit(reduced_data)\n",
    "#predict the labels of clusters.\n",
    "label = kmeans_pca.fit_predict(reduced_data)\n",
    "u_labels = np.unique(label)\n",
    "\n",
    "# Getting the centroids\n",
    "centroids = kmeans_pca.cluster_centers_\n",
    "for i in u_labels:\n",
    "    plt.scatter(reduced_data[label == i , 0] , reduced_data[label == i , 1] , label = i)\n",
    "plt.scatter(centroids[:,0] , centroids[:,1] , s = 80, color = 'k')\n",
    "plt.legend()\n",
    "plt.show()\n",
    "\n",
    "num_clusters = 4\n",
    "sample_silhouette_values = silhouette_samples(reduced_data, label)\n",
    "score_for_4 = silhouette_score(reduced_data, kmeans_pca.labels_, metric='euclidean')\n",
    "# Print the score\n",
    "print('Silhouette Score: %.3f' % score_for_4)\n",
    "silhouette_scores.append(score_for_4)\n",
    "means_lst = []\n",
    "for label in range(num_clusters):\n",
    "    means_lst.append(sample_silhouette_values[kmeans_pca.labels_ == label].mean())\n",
    "print(means_lst)                                                                             \n"
   ]
  },
  {
   "cell_type": "markdown",
   "metadata": {},
   "source": [
    "## Cluster - 5 "
   ]
  },
  {
   "cell_type": "code",
   "execution_count": 47,
   "metadata": {},
   "outputs": [
    {
     "data": {
      "image/png": "[encoded data removed]",
      "text/plain": [
       "<Figure size 432x288 with 1 Axes>"
      ]
     },
     "metadata": {},
     "output_type": "display_data"
    },
    {
     "name": "stdout",
     "output_type": "stream",
     "text": [
      "Silhouette Score: 0.344\n",
      "[0.3523783330467811, 0.29718686528433524, 0.347794953410101, 0.38723904748433335, 0.276680240235676]\n"
     ]
    }
   ],
   "source": [
    "kmeans_pca = KMeans(n_clusters = 5, init = 'k-means++', random_state = 42)\n",
    "kmeans_pca.fit(reduced_data)\n",
    "#predict the labels of clusters.\n",
    "label = kmeans_pca.fit_predict(reduced_data)\n",
    "u_labels = np.unique(label)\n",
    "\n",
    "# Getting the centroids\n",
    "centroids = kmeans_pca.cluster_centers_\n",
    "for i in u_labels:\n",
    "    plt.scatter(reduced_data[label == i , 0] , reduced_data[label == i , 1] , label = i)\n",
    "plt.scatter(centroids[:,0] , centroids[:,1] , s = 80, color = 'k')\n",
    "plt.legend()\n",
    "plt.show()\n",
    "\n",
    "num_clusters = 5\n",
    "sample_silhouette_values = silhouette_samples(reduced_data, label)\n",
    "score_for_5 = silhouette_score(reduced_data, kmeans_pca.labels_, metric='euclidean')\n",
    "# Print the score\n",
    "print('Silhouette Score: %.3f' % score_for_5)\n",
    "silhouette_scores.append(score_for_5)\n",
    "means_lst = []\n",
    "for label in range(num_clusters):\n",
    "    means_lst.append(sample_silhouette_values[kmeans_pca.labels_ == label].mean())\n",
    "print(means_lst)                                                                             \n"
   ]
  },
  {
   "cell_type": "markdown",
   "metadata": {},
   "source": [
    "## Cluster - 6 "
   ]
  },
  {
   "cell_type": "code",
   "execution_count": 48,
   "metadata": {},
   "outputs": [
    {
     "data": {
      "image/png": "[encoded data removed]",
      "text/plain": [
       "<Figure size 432x288 with 1 Axes>"
      ]
     },
     "metadata": {},
     "output_type": "display_data"
    },
    {
     "name": "stdout",
     "output_type": "stream",
     "text": [
      "Silhouette Score: 0.347\n",
      "[0.4363084948121341, 0.34392987958088034, 0.2984055884511756, 0.3827198965637263, 0.2638570751464433, 0.29833963052345747]\n"
     ]
    }
   ],
   "source": [
    "kmeans_pca = KMeans(n_clusters = 6, init = 'k-means++', random_state = 42)\n",
    "kmeans_pca.fit(reduced_data)\n",
    "#predict the labels of clusters.\n",
    "label = kmeans_pca.fit_predict(reduced_data)\n",
    "u_labels = np.unique(label)\n",
    "\n",
    "# Getting the centroids\n",
    "centroids = kmeans_pca.cluster_centers_\n",
    "for i in u_labels:\n",
    "    plt.scatter(reduced_data[label == i , 0] , reduced_data[label == i , 1] , label = i)\n",
    "plt.scatter(centroids[:,0] , centroids[:,1] , s = 80, color = 'k')\n",
    "plt.legend()\n",
    "plt.show()\n",
    "\n",
    "num_clusters = 6\n",
    "sample_silhouette_values = silhouette_samples(reduced_data, label)\n",
    "score_for_6 = silhouette_score(reduced_data, kmeans_pca.labels_, metric='euclidean')\n",
    "# Print the score\n",
    "print('Silhouette Score: %.3f' % score_for_6)\n",
    "silhouette_scores.append(score_for_6)\n",
    "means_lst = []\n",
    "for label in range(num_clusters):\n",
    "    means_lst.append(sample_silhouette_values[kmeans_pca.labels_ == label].mean())\n",
    "print(means_lst)                                                                             \n"
   ]
  },
  {
   "cell_type": "markdown",
   "metadata": {},
   "source": [
    "## Cluster - 7 "
   ]
  },
  {
   "cell_type": "code",
   "execution_count": 49,
   "metadata": {},
   "outputs": [
    {
     "data": {
      "image/png": "[encoded data removed]",
      "text/plain": [
       "<Figure size 432x288 with 1 Axes>"
      ]
     },
     "metadata": {},
     "output_type": "display_data"
    },
    {
     "name": "stdout",
     "output_type": "stream",
     "text": [
      "Silhouette Score: 0.337\n",
      "[0.2762570915510692, 0.3601108383229894, 0.2692734615727235, 0.28281179951769386, 0.33770173643942825, 0.3305263430480535, 0.43269330384775445]\n"
     ]
    }
   ],
   "source": [
    "kmeans_pca = KMeans(n_clusters = 7, init = 'k-means++', random_state = 42)\n",
    "kmeans_pca.fit(reduced_data)\n",
    "#predict the labels of clusters.\n",
    "label = kmeans_pca.fit_predict(reduced_data)\n",
    "u_labels = np.unique(label)\n",
    "\n",
    "# Getting the centroids\n",
    "centroids = kmeans_pca.cluster_centers_\n",
    "for i in u_labels:\n",
    "    plt.scatter(reduced_data[label == i , 0] , reduced_data[label == i , 1] , label = i)\n",
    "plt.scatter(centroids[:,0] , centroids[:,1] , s = 80, color = 'k')\n",
    "plt.legend()\n",
    "plt.show()\n",
    "\n",
    "num_clusters = 7\n",
    "sample_silhouette_values = silhouette_samples(reduced_data, label)\n",
    "score_for_7 = silhouette_score(reduced_data, kmeans_pca.labels_, metric='euclidean')\n",
    "# Print the score\n",
    "print('Silhouette Score: %.3f' % score_for_7)\n",
    "silhouette_scores.append(score_for_7)\n",
    "means_lst = []\n",
    "for label in range(num_clusters):\n",
    "    means_lst.append(sample_silhouette_values[kmeans_pca.labels_ == label].mean())\n",
    "print(means_lst)                                                                             \n"
   ]
  },
  {
   "cell_type": "code",
   "execution_count": 50,
   "metadata": {},
   "outputs": [
    {
     "name": "stdout",
     "output_type": "stream",
     "text": [
      "[0.4014235121705951, 0.3590241469614781, 0.3436824128726129, 0.3470917579631399, 0.336909405915904]\n"
     ]
    }
   ],
   "source": [
    "print(silhouette_scores)\n",
    "num_clusters=[3,4,5,6,7]"
   ]
  },
  {
   "cell_type": "code",
   "execution_count": 51,
   "metadata": {},
   "outputs": [
    {
     "data": {
      "image/png": "[encoded data removed]",
      "text/plain": [
       "<Figure size 432x288 with 1 Axes>"
      ]
     },
     "metadata": {},
     "output_type": "display_data"
    }
   ],
   "source": [
    "# creating the bar plot\n",
    "plt.bar(num_clusters, silhouette_scores, color ='maroon',\n",
    "        width = 0.4)\n",
    " \n",
    "plt.xlabel(\"Cluster Value\")\n",
    "plt.ylabel(\"Silhouette Scores\")\n",
    "plt.title(\"No. of Cluster vs Silhouette Scores\")\n",
    "plt.show()"
   ]
  },
  {
   "cell_type": "code",
   "execution_count": 52,
   "metadata": {},
   "outputs": [
    {
     "data": {
      "text/plain": [
       "(20491, 2)"
      ]
     },
     "execution_count": 52,
     "metadata": {},
     "output_type": "execute_result"
    }
   ],
   "source": [
    "data.shape"
   ]
  },
  {
   "cell_type": "markdown",
   "metadata": {},
   "source": [
    "#### The value of 4  clusters looks to be the optimal one. The silhouette score for this cluster is above average silhouette scores. Also, the fluctuation in size is similar for the further increasing clusters"
   ]
  },
  {
   "cell_type": "code",
   "execution_count": 53,
   "metadata": {},
   "outputs": [
    {
     "data": {
      "text/plain": [
       "20491"
      ]
     },
     "execution_count": 53,
     "metadata": {},
     "output_type": "execute_result"
    }
   ],
   "source": [
    "# The Apriori library we are going to use requires our dataset to be in the form of a list of lists, \n",
    "# where the whole dataset is a big list and each transaction in the dataset is an inner list within the \n",
    "# outer big list. \n",
    "records = []\n",
    "for index in data.index:\n",
    "    records.append(data['Review'][index].split(\" \"))\n",
    "len(records)"
   ]
  },
  {
   "cell_type": "code",
   "execution_count": 54,
   "metadata": {},
   "outputs": [
    {
     "name": "stdout",
     "output_type": "stream",
     "text": [
      "Collecting apyori\n",
      "  Downloading apyori-1.1.2.tar.gz (8.6 kB)\n",
      "Building wheels for collected packages: apyori\n",
      "  Building wheel for apyori (setup.py): started\n",
      "  Building wheel for apyori (setup.py): finished with status 'done'\n",
      "  Created wheel for apyori: filename=apyori-1.1.2-py3-none-any.whl size=5979 sha256=6ee0e7b00b8b20ec758536cfd80814713fa1bdc0ef5755d6d1bef6fc7dba6877\n",
      "  Stored in directory: c:\\users\\kaurs\\appdata\\local\\pip\\cache\\wheels\\1b\\02\\6c\\a45230be8603bd95c0a51cd2b289aefdd860c1a100eab73661\n",
      "Successfully built apyori\n",
      "Installing collected packages: apyori\n",
      "Successfully installed apyori-1.1.2\n",
      "Note: you may need to restart the kernel to use updated packages.\n"
     ]
    }
   ],
   "source": [
    "pip install apyori"
   ]
  },
  {
   "cell_type": "code",
   "execution_count": 57,
   "metadata": {},
   "outputs": [
    {
     "name": "stdout",
     "output_type": "stream",
     "text": [
      "<generator object apriori at 0x000001DE14C31B30>\n"
     ]
    }
   ],
   "source": [
    "from apyori import apriori\n",
    "association_rules = apriori(records, min_support=0.1, min_confidence=0.2,min_length=2)\n",
    "association_results = list(association_rules)\n",
    "print(association_rules)"
   ]
  },
  {
   "cell_type": "code",
   "execution_count": 58,
   "metadata": {},
   "outputs": [],
   "source": [
    "for item in association_rules:\n",
    "\n",
    "    # first index of the inner list\n",
    "    # Contains base item and add item\n",
    "    pair = item[0] \n",
    "    items = [x for x in pair]\n",
    "    print(\"Rule: \" + items[0] + \" -> \" + items[1])\n",
    "\n",
    "    #second index of the inner list\n",
    "    print(\"Support: \" + str(item[1]))\n",
    "\n",
    "    #third index of the list located at 0th\n",
    "    #of the third index of the inner list\n",
    "\n",
    "    print(\"Confidence: \" + str(item[2][0][2]))\n",
    "    print(\"Lift: \" + str(item[2][0][3]))\n",
    "    print(\"=====================================\")"
   ]
  },
  {
   "cell_type": "code",
   "execution_count": null,
   "metadata": {},
   "outputs": [],
   "source": []
  }
 ],
 "metadata": {
  "kernelspec": {
   "display_name": "Python 3",
   "language": "python",
   "name": "python3"
  },
  "language_info": {
   "codemirror_mode": {
    "name": "ipython",
    "version": 3
   },
   "file_extension": ".py",
   "mimetype": "text/x-python",
   "name": "python",
   "nbconvert_exporter": "python",
   "pygments_lexer": "ipython3",
   "version": "3.8.5"
  }
 },
 "nbformat": 4,
 "nbformat_minor": 4
}
